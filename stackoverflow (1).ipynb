{
  "metadata": {
    "kernelspec": {
      "name": "python",
      "display_name": "Python (Pyodide)",
      "language": "python"
    },
    "language_info": {
      "codemirror_mode": {
        "name": "python",
        "version": 3
      },
      "file_extension": ".py",
      "mimetype": "text/x-python",
      "name": "python",
      "nbconvert_exporter": "python",
      "pygments_lexer": "ipython3",
      "version": "3.8"
    }
  },
  "nbformat_minor": 5,
  "nbformat": 4,
  "cells": [
    {
      "id": "42af9afd-6955-40a6-9bc4-1c332bc0b35e",
      "cell_type": "code",
      "source": "import os\nprint(os.getcwd())   \nprint(\"Current working directory:\", os.getcwd())\nprint(\"Files here:\", os.listdir())\nif \"data\" in os.listdir():\n    print(\"Files inside ./data:\", os.listdir(\"data\"))\nworking_directory = os.getcwd()\nprint(working_directory)\n\nimport pandas as pd\ndf = pd.read_csv(\"data/survey_results.csv\")\nprint(df.head())\n",
      "metadata": {
        "trusted": true
      },
      "outputs": [
        {
          "name": "stdout",
          "output_type": "stream",
          "text": "/drive\nCurrent working directory: /drive\nFiles here: ['Untitled10.ipynb', 'Untitled5.ipynb', 'Untitled6.ipynb', 'Untitled7.ipynb', 'Untitled8.ipynb', 'Untitled9.ipynb', 'cleaned_file.csv', 'cleaned_survey_results.csv', 'stackoverflow.ipynb', 'survey_cleaned.csv', 'README.md', 'data', 'notebooks']\nFiles inside ./data: ['Untitled12.ipynb', 'survey_results.csv', 'audio.wav', 'iris.csv', 'marie.png', 'matplotlib.png', 'Museums_in_DC.geojson', 'bar.vl.json', 'fasta-example.fasta']\n/drive\n   Respondent                                         MainBranch Hobbyist  \\\n0           1                     I am a developer by profession      Yes   \n1           2                     I am a developer by profession       No   \n2           3                        I code primarily as a hobby      Yes   \n3           4                     I am a developer by profession      Yes   \n4           5  I used to be a developer by profession, but no...      Yes   \n\n    Age Age1stCode CompFreq  CompTotal  ConvertedComp             Country  \\\n0   NaN         13  Monthly        NaN            NaN             Germany   \n1   NaN         19      NaN        NaN            NaN      United Kingdom   \n2   NaN         15      NaN        NaN            NaN  Russian Federation   \n3  25.0         18      NaN        NaN            NaN             Albania   \n4  31.0         16      NaN        NaN            NaN       United States   \n\n     CurrencyDesc  ...                  SurveyEase           SurveyLength  \\\n0   European Euro  ...  Neither easy nor difficult  Appropriate in length   \n1  Pound sterling  ...                         NaN                    NaN   \n2             NaN  ...  Neither easy nor difficult  Appropriate in length   \n3    Albanian lek  ...                         NaN                    NaN   \n4             NaN  ...                        Easy              Too short   \n\n  Trans                                     UndergradMajor  \\\n0    No  Computer science, computer engineering, or sof...   \n1   NaN  Computer science, computer engineering, or sof...   \n2   NaN                                                NaN   \n3    No  Computer science, computer engineering, or sof...   \n4    No  Computer science, computer engineering, or sof...   \n\n  WebframeDesireNextYear    WebframeWorkedWith  \\\n0           ASP.NET Core  ASP.NET;ASP.NET Core   \n1                    NaN                   NaN   \n2                    NaN                   NaN   \n3                    NaN                   NaN   \n4   Django;Ruby on Rails         Ruby on Rails   \n\n                              WelcomeChange WorkWeekHrs YearsCode YearsCodePro  \n0   Just as welcome now as I felt last year        50.0        36           27  \n1  Somewhat more welcome now than last year         NaN         7            4  \n2  Somewhat more welcome now than last year         NaN         4          NaN  \n3  Somewhat less welcome now than last year        40.0         7            4  \n4   Just as welcome now as I felt last year         NaN        15            8  \n\n[5 rows x 61 columns]\n"
        }
      ],
      "execution_count": 1
    },
    {
      "id": "d002b174-60f8-42a5-8c7b-d017ec7e653b",
      "cell_type": "code",
      "source": "import pandas as pd\nimport re\n\nprint(df.head())\nprint(df.shape)\nprint(df.columns[:30])\n\ndemographics = [\"Country\", \"Age\", \"EdLevel\"]\nopinions = [\"MiscTechDesireNextYear\", \"PlatformDesireNextYear\", \"Hobbyist\", \"WorkWeekHrs\"]\n  \ndf_clean = df.copy()\n# Drop rows with missing Country/Age\ndf_clean = df_clean.dropna(subset=[\"Country\", \"Age\"])\n\n# Fill EdLevel \ndf_clean[\"EdLevel\"] = df_clean[\"EdLevel\"].fillna(\"Other/NA\")\n\ndef clean_edlevel(x):\n    if pd.isnull(x):\n        return \"Other\"\n    x = str(x).lower()\n    if re.search(\"bachelor\", x):\n        return \"Bachelor's Degree\"\n    elif re.search(\"master\", x):\n        return \"Master's Degree\"\n    elif re.search(\"ph.d.|doctor\", x):\n        return \"Doctorate\"   \n    else:\n        return \"Other\"\n",
      "metadata": {
        "trusted": true
      },
      "outputs": [
        {
          "name": "stdout",
          "output_type": "stream",
          "text": "   Respondent                                         MainBranch Hobbyist  \\\n0           1                     I am a developer by profession      Yes   \n1           2                     I am a developer by profession       No   \n2           3                        I code primarily as a hobby      Yes   \n3           4                     I am a developer by profession      Yes   \n4           5  I used to be a developer by profession, but no...      Yes   \n\n    Age Age1stCode CompFreq  CompTotal  ConvertedComp             Country  \\\n0   NaN         13  Monthly        NaN            NaN             Germany   \n1   NaN         19      NaN        NaN            NaN      United Kingdom   \n2   NaN         15      NaN        NaN            NaN  Russian Federation   \n3  25.0         18      NaN        NaN            NaN             Albania   \n4  31.0         16      NaN        NaN            NaN       United States   \n\n     CurrencyDesc  ...                  SurveyEase           SurveyLength  \\\n0   European Euro  ...  Neither easy nor difficult  Appropriate in length   \n1  Pound sterling  ...                         NaN                    NaN   \n2             NaN  ...  Neither easy nor difficult  Appropriate in length   \n3    Albanian lek  ...                         NaN                    NaN   \n4             NaN  ...                        Easy              Too short   \n\n  Trans                                     UndergradMajor  \\\n0    No  Computer science, computer engineering, or sof...   \n1   NaN  Computer science, computer engineering, or sof...   \n2   NaN                                                NaN   \n3    No  Computer science, computer engineering, or sof...   \n4    No  Computer science, computer engineering, or sof...   \n\n  WebframeDesireNextYear    WebframeWorkedWith  \\\n0           ASP.NET Core  ASP.NET;ASP.NET Core   \n1                    NaN                   NaN   \n2                    NaN                   NaN   \n3                    NaN                   NaN   \n4   Django;Ruby on Rails         Ruby on Rails   \n\n                              WelcomeChange WorkWeekHrs YearsCode YearsCodePro  \n0   Just as welcome now as I felt last year        50.0        36           27  \n1  Somewhat more welcome now than last year         NaN         7            4  \n2  Somewhat more welcome now than last year         NaN         4          NaN  \n3  Somewhat less welcome now than last year        40.0         7            4  \n4   Just as welcome now as I felt last year         NaN        15            8  \n\n[5 rows x 61 columns]\n(64461, 61)\nIndex(['Respondent', 'MainBranch', 'Hobbyist', 'Age', 'Age1stCode', 'CompFreq',\n       'CompTotal', 'ConvertedComp', 'Country', 'CurrencyDesc',\n       'CurrencySymbol', 'DatabaseDesireNextYear', 'DatabaseWorkedWith',\n       'DevType', 'EdLevel', 'Employment', 'Ethnicity', 'Gender', 'JobFactors',\n       'JobSat', 'JobSeek', 'LanguageDesireNextYear', 'LanguageWorkedWith',\n       'MiscTechDesireNextYear', 'MiscTechWorkedWith',\n       'NEWCollabToolsDesireNextYear', 'NEWCollabToolsWorkedWith', 'NEWDevOps',\n       'NEWDevOpsImpt', 'NEWEdImpt'],\n      dtype='object')\n"
        }
      ],
      "execution_count": 2
    },
    {
      "id": "036e0dd8-9660-4671-ae15-8eac96e80648",
      "cell_type": "code",
      "source": "df.isnull().any()",
      "metadata": {
        "trusted": true
      },
      "outputs": [
        {
          "execution_count": 3,
          "output_type": "execute_result",
          "data": {
            "text/plain": "Respondent            False\nMainBranch             True\nHobbyist               True\nAge                    True\nAge1stCode             True\n                      ...  \nWebframeWorkedWith     True\nWelcomeChange          True\nWorkWeekHrs            True\nYearsCode              True\nYearsCodePro           True\nLength: 61, dtype: bool"
          },
          "metadata": {}
        }
      ],
      "execution_count": 3
    },
    {
      "id": "addca943-36f5-41a7-9f91-a75b223f42a2",
      "cell_type": "code",
      "source": "df[df[\"MainBranch\"].isna()==1]",
      "metadata": {
        "trusted": true
      },
      "outputs": [
        {
          "execution_count": 4,
          "output_type": "execute_result",
          "data": {
            "text/plain": "       Respondent MainBranch Hobbyist   Age Age1stCode CompFreq  CompTotal  \\\n64162          90        NaN      Yes  24.0         18      NaN        NaN   \n64163         889        NaN      Yes   NaN         14      NaN        NaN   \n64164         909        NaN      Yes   NaN         13      NaN        NaN   \n64165        1173        NaN      Yes   NaN        NaN      NaN        NaN   \n64166        1264        NaN      Yes   NaN         16      NaN        NaN   \n...           ...        ...      ...   ...        ...      ...        ...   \n64456       64858        NaN      Yes   NaN         16      NaN        NaN   \n64457       64867        NaN      Yes   NaN        NaN      NaN        NaN   \n64458       64898        NaN      Yes   NaN        NaN      NaN        NaN   \n64459       64925        NaN      Yes   NaN        NaN      NaN        NaN   \n64460       65112        NaN      Yes   NaN        NaN      NaN        NaN   \n\n       ConvertedComp         Country CurrencyDesc  ...  \\\n64162            NaN          Serbia          NaN  ...   \n64163            NaN   United States          NaN  ...   \n64164            NaN  United Kingdom          NaN  ...   \n64165            NaN   United States          NaN  ...   \n64166            NaN          Turkey          NaN  ...   \n...              ...             ...          ...  ...   \n64456            NaN   United States          NaN  ...   \n64457            NaN         Morocco          NaN  ...   \n64458            NaN        Viet Nam          NaN  ...   \n64459            NaN          Poland          NaN  ...   \n64460            NaN           Spain          NaN  ...   \n\n                       SurveyEase           SurveyLength Trans  \\\n64162                        Easy  Appropriate in length    No   \n64163                        Easy  Appropriate in length    No   \n64164  Neither easy nor difficult  Appropriate in length    No   \n64165                         NaN                    NaN   NaN   \n64166  Neither easy nor difficult  Appropriate in length   NaN   \n...                           ...                    ...   ...   \n64456                         NaN                    NaN   NaN   \n64457                         NaN                    NaN   NaN   \n64458                         NaN                    NaN   NaN   \n64459                         NaN                    NaN   NaN   \n64460                         NaN                    NaN   NaN   \n\n                                          UndergradMajor  \\\n64162  Computer science, computer engineering, or sof...   \n64163                                                NaN   \n64164                                                NaN   \n64165                                                NaN   \n64166                                                NaN   \n...                                                  ...   \n64456  Computer science, computer engineering, or sof...   \n64457                                                NaN   \n64458                                                NaN   \n64459                                                NaN   \n64460  Computer science, computer engineering, or sof...   \n\n                  WebframeDesireNextYear  \\\n64162                           React.js   \n64163  Angular.js;jQuery;React.js;Vue.js   \n64164                                NaN   \n64165                                NaN   \n64166                                NaN   \n...                                  ...   \n64456                                NaN   \n64457                                NaN   \n64458                                NaN   \n64459        Angular;Angular.js;React.js   \n64460                ASP.NET Core;jQuery   \n\n                           WebframeWorkedWith  \\\n64162          Express;Gatsby;React.js;Vue.js   \n64163                                     NaN   \n64164                                     NaN   \n64165                                     NaN   \n64166                                 Laravel   \n...                                       ...   \n64456                                     NaN   \n64457                                     NaN   \n64458                                     NaN   \n64459                                     NaN   \n64460  Angular;Angular.js;ASP.NET Core;jQuery   \n\n                                 WelcomeChange WorkWeekHrs YearsCode  \\\n64162  Just as welcome now as I felt last year         NaN         4   \n64163    A lot less welcome now than last year         NaN         5   \n64164  Just as welcome now as I felt last year         NaN        10   \n64165                                      NaN         NaN       NaN   \n64166    A lot less welcome now than last year         NaN        30   \n...                                        ...         ...       ...   \n64456                                      NaN         NaN        10   \n64457                                      NaN         NaN       NaN   \n64458                                      NaN         NaN       NaN   \n64459                                      NaN         NaN       NaN   \n64460                                      NaN         NaN       NaN   \n\n           YearsCodePro  \n64162               NaN  \n64163  Less than 1 year  \n64164  Less than 1 year  \n64165               NaN  \n64166               NaN  \n...                 ...  \n64456  Less than 1 year  \n64457               NaN  \n64458               NaN  \n64459               NaN  \n64460               NaN  \n\n[299 rows x 61 columns]",
            "text/html": "<div>\n<style scoped>\n    .dataframe tbody tr th:only-of-type {\n        vertical-align: middle;\n    }\n\n    .dataframe tbody tr th {\n        vertical-align: top;\n    }\n\n    .dataframe thead th {\n        text-align: right;\n    }\n</style>\n<table border=\"1\" class=\"dataframe\">\n  <thead>\n    <tr style=\"text-align: right;\">\n      <th></th>\n      <th>Respondent</th>\n      <th>MainBranch</th>\n      <th>Hobbyist</th>\n      <th>Age</th>\n      <th>Age1stCode</th>\n      <th>CompFreq</th>\n      <th>CompTotal</th>\n      <th>ConvertedComp</th>\n      <th>Country</th>\n      <th>CurrencyDesc</th>\n      <th>...</th>\n      <th>SurveyEase</th>\n      <th>SurveyLength</th>\n      <th>Trans</th>\n      <th>UndergradMajor</th>\n      <th>WebframeDesireNextYear</th>\n      <th>WebframeWorkedWith</th>\n      <th>WelcomeChange</th>\n      <th>WorkWeekHrs</th>\n      <th>YearsCode</th>\n      <th>YearsCodePro</th>\n    </tr>\n  </thead>\n  <tbody>\n    <tr>\n      <th>64162</th>\n      <td>90</td>\n      <td>NaN</td>\n      <td>Yes</td>\n      <td>24.0</td>\n      <td>18</td>\n      <td>NaN</td>\n      <td>NaN</td>\n      <td>NaN</td>\n      <td>Serbia</td>\n      <td>NaN</td>\n      <td>...</td>\n      <td>Easy</td>\n      <td>Appropriate in length</td>\n      <td>No</td>\n      <td>Computer science, computer engineering, or sof...</td>\n      <td>React.js</td>\n      <td>Express;Gatsby;React.js;Vue.js</td>\n      <td>Just as welcome now as I felt last year</td>\n      <td>NaN</td>\n      <td>4</td>\n      <td>NaN</td>\n    </tr>\n    <tr>\n      <th>64163</th>\n      <td>889</td>\n      <td>NaN</td>\n      <td>Yes</td>\n      <td>NaN</td>\n      <td>14</td>\n      <td>NaN</td>\n      <td>NaN</td>\n      <td>NaN</td>\n      <td>United States</td>\n      <td>NaN</td>\n      <td>...</td>\n      <td>Easy</td>\n      <td>Appropriate in length</td>\n      <td>No</td>\n      <td>NaN</td>\n      <td>Angular.js;jQuery;React.js;Vue.js</td>\n      <td>NaN</td>\n      <td>A lot less welcome now than last year</td>\n      <td>NaN</td>\n      <td>5</td>\n      <td>Less than 1 year</td>\n    </tr>\n    <tr>\n      <th>64164</th>\n      <td>909</td>\n      <td>NaN</td>\n      <td>Yes</td>\n      <td>NaN</td>\n      <td>13</td>\n      <td>NaN</td>\n      <td>NaN</td>\n      <td>NaN</td>\n      <td>United Kingdom</td>\n      <td>NaN</td>\n      <td>...</td>\n      <td>Neither easy nor difficult</td>\n      <td>Appropriate in length</td>\n      <td>No</td>\n      <td>NaN</td>\n      <td>NaN</td>\n      <td>NaN</td>\n      <td>Just as welcome now as I felt last year</td>\n      <td>NaN</td>\n      <td>10</td>\n      <td>Less than 1 year</td>\n    </tr>\n    <tr>\n      <th>64165</th>\n      <td>1173</td>\n      <td>NaN</td>\n      <td>Yes</td>\n      <td>NaN</td>\n      <td>NaN</td>\n      <td>NaN</td>\n      <td>NaN</td>\n      <td>NaN</td>\n      <td>United States</td>\n      <td>NaN</td>\n      <td>...</td>\n      <td>NaN</td>\n      <td>NaN</td>\n      <td>NaN</td>\n      <td>NaN</td>\n      <td>NaN</td>\n      <td>NaN</td>\n      <td>NaN</td>\n      <td>NaN</td>\n      <td>NaN</td>\n      <td>NaN</td>\n    </tr>\n    <tr>\n      <th>64166</th>\n      <td>1264</td>\n      <td>NaN</td>\n      <td>Yes</td>\n      <td>NaN</td>\n      <td>16</td>\n      <td>NaN</td>\n      <td>NaN</td>\n      <td>NaN</td>\n      <td>Turkey</td>\n      <td>NaN</td>\n      <td>...</td>\n      <td>Neither easy nor difficult</td>\n      <td>Appropriate in length</td>\n      <td>NaN</td>\n      <td>NaN</td>\n      <td>NaN</td>\n      <td>Laravel</td>\n      <td>A lot less welcome now than last year</td>\n      <td>NaN</td>\n      <td>30</td>\n      <td>NaN</td>\n    </tr>\n    <tr>\n      <th>...</th>\n      <td>...</td>\n      <td>...</td>\n      <td>...</td>\n      <td>...</td>\n      <td>...</td>\n      <td>...</td>\n      <td>...</td>\n      <td>...</td>\n      <td>...</td>\n      <td>...</td>\n      <td>...</td>\n      <td>...</td>\n      <td>...</td>\n      <td>...</td>\n      <td>...</td>\n      <td>...</td>\n      <td>...</td>\n      <td>...</td>\n      <td>...</td>\n      <td>...</td>\n      <td>...</td>\n    </tr>\n    <tr>\n      <th>64456</th>\n      <td>64858</td>\n      <td>NaN</td>\n      <td>Yes</td>\n      <td>NaN</td>\n      <td>16</td>\n      <td>NaN</td>\n      <td>NaN</td>\n      <td>NaN</td>\n      <td>United States</td>\n      <td>NaN</td>\n      <td>...</td>\n      <td>NaN</td>\n      <td>NaN</td>\n      <td>NaN</td>\n      <td>Computer science, computer engineering, or sof...</td>\n      <td>NaN</td>\n      <td>NaN</td>\n      <td>NaN</td>\n      <td>NaN</td>\n      <td>10</td>\n      <td>Less than 1 year</td>\n    </tr>\n    <tr>\n      <th>64457</th>\n      <td>64867</td>\n      <td>NaN</td>\n      <td>Yes</td>\n      <td>NaN</td>\n      <td>NaN</td>\n      <td>NaN</td>\n      <td>NaN</td>\n      <td>NaN</td>\n      <td>Morocco</td>\n      <td>NaN</td>\n      <td>...</td>\n      <td>NaN</td>\n      <td>NaN</td>\n      <td>NaN</td>\n      <td>NaN</td>\n      <td>NaN</td>\n      <td>NaN</td>\n      <td>NaN</td>\n      <td>NaN</td>\n      <td>NaN</td>\n      <td>NaN</td>\n    </tr>\n    <tr>\n      <th>64458</th>\n      <td>64898</td>\n      <td>NaN</td>\n      <td>Yes</td>\n      <td>NaN</td>\n      <td>NaN</td>\n      <td>NaN</td>\n      <td>NaN</td>\n      <td>NaN</td>\n      <td>Viet Nam</td>\n      <td>NaN</td>\n      <td>...</td>\n      <td>NaN</td>\n      <td>NaN</td>\n      <td>NaN</td>\n      <td>NaN</td>\n      <td>NaN</td>\n      <td>NaN</td>\n      <td>NaN</td>\n      <td>NaN</td>\n      <td>NaN</td>\n      <td>NaN</td>\n    </tr>\n    <tr>\n      <th>64459</th>\n      <td>64925</td>\n      <td>NaN</td>\n      <td>Yes</td>\n      <td>NaN</td>\n      <td>NaN</td>\n      <td>NaN</td>\n      <td>NaN</td>\n      <td>NaN</td>\n      <td>Poland</td>\n      <td>NaN</td>\n      <td>...</td>\n      <td>NaN</td>\n      <td>NaN</td>\n      <td>NaN</td>\n      <td>NaN</td>\n      <td>Angular;Angular.js;React.js</td>\n      <td>NaN</td>\n      <td>NaN</td>\n      <td>NaN</td>\n      <td>NaN</td>\n      <td>NaN</td>\n    </tr>\n    <tr>\n      <th>64460</th>\n      <td>65112</td>\n      <td>NaN</td>\n      <td>Yes</td>\n      <td>NaN</td>\n      <td>NaN</td>\n      <td>NaN</td>\n      <td>NaN</td>\n      <td>NaN</td>\n      <td>Spain</td>\n      <td>NaN</td>\n      <td>...</td>\n      <td>NaN</td>\n      <td>NaN</td>\n      <td>NaN</td>\n      <td>Computer science, computer engineering, or sof...</td>\n      <td>ASP.NET Core;jQuery</td>\n      <td>Angular;Angular.js;ASP.NET Core;jQuery</td>\n      <td>NaN</td>\n      <td>NaN</td>\n      <td>NaN</td>\n      <td>NaN</td>\n    </tr>\n  </tbody>\n</table>\n<p>299 rows × 61 columns</p>\n</div>"
          },
          "metadata": {}
        }
      ],
      "execution_count": 4
    },
    {
      "id": "795b91a8-6981-4440-ad74-bbeca0e43819",
      "cell_type": "code",
      "source": "df[\"MainBranch\"] = df[\"MainBranch\"].fillna(0)\ndf[\"Age\"]= df[\"Age\"].fillna(0)\ndf[\"Age1stCode\"]= df[\"Age1stCode\"].fillna(0)\ndf[\"WebframeWorkedWith\"]= df[\"WebframeWorkedWith\"].fillna(0)\ndf[\"WelcomeChange\"]= df[\"WelcomeChange\"].fillna(0)\ndf[\"YearsCode\"]= df[\"YearsCode\"].fillna(0)\ndf[\"YearsCodePro\"]= df[\"YearsCodePro\"].fillna(0)\ndf[\"CompFreq\"]= df[\"CompFreq\"].fillna(0)\ndf[\"CompTotal\"]= df[\"CompTotal\"].fillna(0)\ndf[\"ConvertedComp\"]= df[\"ConvertedComp\"].fillna(0)  \ndf[\"CurrencyDesc\"]= df[\"CurrencyDesc\"].fillna(0)\n\n#fill in extra columns- might need for later \n#could do fill.na(unknown)for qualitative variables such as main branch \n\ndf[df[\"Respondent\"] == 90]\n# to check if the code above worked for an example respondent\n#df.rename({\"MiscTechDesireNextYear\":\"DesiredTech_NextYr\"},axis = 1)",
      "metadata": {
        "trusted": true
      },
      "outputs": [
        {
          "execution_count": 5,
          "output_type": "execute_result",
          "data": {
            "text/plain": "       Respondent MainBranch Hobbyist   Age Age1stCode CompFreq  CompTotal  \\\n64162          90          0      Yes  24.0         18        0        0.0   \n\n       ConvertedComp Country CurrencyDesc  ... SurveyEase  \\\n64162            0.0  Serbia            0  ...       Easy   \n\n                SurveyLength Trans  \\\n64162  Appropriate in length    No   \n\n                                          UndergradMajor  \\\n64162  Computer science, computer engineering, or sof...   \n\n      WebframeDesireNextYear              WebframeWorkedWith  \\\n64162               React.js  Express;Gatsby;React.js;Vue.js   \n\n                                 WelcomeChange WorkWeekHrs YearsCode  \\\n64162  Just as welcome now as I felt last year         NaN         4   \n\n      YearsCodePro  \n64162            0  \n\n[1 rows x 61 columns]",
            "text/html": "<div>\n<style scoped>\n    .dataframe tbody tr th:only-of-type {\n        vertical-align: middle;\n    }\n\n    .dataframe tbody tr th {\n        vertical-align: top;\n    }\n\n    .dataframe thead th {\n        text-align: right;\n    }\n</style>\n<table border=\"1\" class=\"dataframe\">\n  <thead>\n    <tr style=\"text-align: right;\">\n      <th></th>\n      <th>Respondent</th>\n      <th>MainBranch</th>\n      <th>Hobbyist</th>\n      <th>Age</th>\n      <th>Age1stCode</th>\n      <th>CompFreq</th>\n      <th>CompTotal</th>\n      <th>ConvertedComp</th>\n      <th>Country</th>\n      <th>CurrencyDesc</th>\n      <th>...</th>\n      <th>SurveyEase</th>\n      <th>SurveyLength</th>\n      <th>Trans</th>\n      <th>UndergradMajor</th>\n      <th>WebframeDesireNextYear</th>\n      <th>WebframeWorkedWith</th>\n      <th>WelcomeChange</th>\n      <th>WorkWeekHrs</th>\n      <th>YearsCode</th>\n      <th>YearsCodePro</th>\n    </tr>\n  </thead>\n  <tbody>\n    <tr>\n      <th>64162</th>\n      <td>90</td>\n      <td>0</td>\n      <td>Yes</td>\n      <td>24.0</td>\n      <td>18</td>\n      <td>0</td>\n      <td>0.0</td>\n      <td>0.0</td>\n      <td>Serbia</td>\n      <td>0</td>\n      <td>...</td>\n      <td>Easy</td>\n      <td>Appropriate in length</td>\n      <td>No</td>\n      <td>Computer science, computer engineering, or sof...</td>\n      <td>React.js</td>\n      <td>Express;Gatsby;React.js;Vue.js</td>\n      <td>Just as welcome now as I felt last year</td>\n      <td>NaN</td>\n      <td>4</td>\n      <td>0</td>\n    </tr>\n  </tbody>\n</table>\n<p>1 rows × 61 columns</p>\n</div>"
          },
          "metadata": {}
        }
      ],
      "execution_count": 5
    },
    {
      "id": "bf999211-9ab6-4364-8a17-ac0bff66c989",
      "cell_type": "code",
      "source": "df = df.rename(columns={\n    \"clean_edlevel\": \"Education Level\",\n    \"AgeGroup\": \"Age Group\",\n    \"WorkWeekHrs\": \"Work Week Hours\",\n    \"MiscTechDesireNextYear\": \"Tech Desired Next Year\",\n    \"PlatformDesireNextYear\": \"Platform Desired Next Year\",\n    \"Hobbyist\": \"Hobbyist Coder\"\n})\n#df= df.drop(columns=[\"Education Level\"])",
      "metadata": {
        "trusted": true
      },
      "outputs": [],
      "execution_count": 6
    },
    {
      "id": "17b7eb58-bd53-4bca-b10b-32d4626e53fe",
      "cell_type": "code",
      "source": "import pandas as pd\n\n# df_clean = pd.read_csv('your_data.csv') \n\n# Define bins\nage_bins = [0, 24, 35, 45, 55, 65, 100]\nage_labels = [\"<=24\", \"25-35\", \"36-45\", \"46-55\", \"56-65\", \"65+\"]\n\ndf_clean['AgeGroup'] = pd.cut(df_clean['Age'], bins=age_bins, labels=age_labels, right=True, include_lowest=True)\n\nprint(df_clean[['Age', 'AgeGroup']].head(20))",
      "metadata": {
        "trusted": true
      },
      "outputs": [
        {
          "name": "stdout",
          "output_type": "stream",
          "text": "     Age AgeGroup\n3   25.0    25-35\n4   31.0    25-35\n7   36.0    36-45\n8   30.0    25-35\n9   22.0     <=24\n10  23.0     <=24\n11  49.0    46-55\n12  53.0    46-55\n13  27.0    25-35\n15  45.0    36-45\n16  25.0    25-35\n17  32.0    25-35\n18  24.0     <=24\n19  40.0    36-45\n20  23.0     <=24\n22  27.0    25-35\n23  45.0    36-45\n28  18.0     <=24\n31  31.0    25-35\n32  39.0    36-45\n"
        }
      ],
      "execution_count": 7
    },
    {
      "id": "a8a6abc8-3f64-4671-89c2-bda13a7c760a",
      "cell_type": "code",
      "source": "df.to_csv(\"cleaned_file.csv\", index=False, encoding='utf-8')",
      "metadata": {
        "trusted": true
      },
      "outputs": [],
      "execution_count": null
    },
    {
      "id": "4581a02e-4d06-4d87-8163-fd34ebbcc6ab",
      "cell_type": "code",
      "source": "",
      "metadata": {
        "trusted": true
      },
      "outputs": [],
      "execution_count": null
    },
    {
      "id": "acee1ae5-5cde-4dae-a3e3-97dd58dab4f3",
      "cell_type": "code",
      "source": "",
      "metadata": {
        "trusted": true
      },
      "outputs": [],
      "execution_count": null
    }
  ]
}